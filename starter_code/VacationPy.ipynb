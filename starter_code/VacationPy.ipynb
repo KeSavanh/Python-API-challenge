{
 "cells": [
  {
   "cell_type": "markdown",
   "metadata": {},
   "source": [
    "# VacationPy\n",
    "----\n",
    "\n",
    "#### Note\n",
    "* Keep an eye on your API usage. Use https://developers.google.com/maps/reporting/gmp-reporting as reference for how to monitor your usage and billing.\n",
    "\n",
    "* Instructions have been included for each segment. You do not have to follow them exactly, but they are included to help you think through the steps."
   ]
  },
  {
   "cell_type": "code",
   "execution_count": 1,
   "metadata": {},
   "outputs": [],
   "source": [
    "# Dependencies and Setup\n",
    "import matplotlib.pyplot as plt\n",
    "import pandas as pd\n",
    "import numpy as np\n",
    "import requests\n",
    "import gmaps\n",
    "import os\n",
    "import json\n",
    "from pprint import pprint\n",
    "\n",
    "# Import API key\n",
    "from api_keys import g_key"
   ]
  },
  {
   "cell_type": "markdown",
   "metadata": {},
   "source": [
    "### Store Part I results into DataFrame\n",
    "* Load the csv exported in Part I to a DataFrame"
   ]
  },
  {
   "cell_type": "code",
   "execution_count": 2,
   "metadata": {},
   "outputs": [],
   "source": [
    "df = pd.read_csv('../output_data/CityWeather.csv')"
   ]
  },
  {
   "cell_type": "code",
   "execution_count": 3,
   "metadata": {},
   "outputs": [
    {
     "data": {
      "text/plain": [
       "554"
      ]
     },
     "execution_count": 3,
     "metadata": {},
     "output_type": "execute_result"
    }
   ],
   "source": [
    "df = df.rename(columns = {'Unnamed: 0' : 'City ID' })\n",
    "df.head()\n",
    "df['Lat'].count()"
   ]
  },
  {
   "cell_type": "markdown",
   "metadata": {},
   "source": [
    "### Humidity Heatmap\n",
    "* Configure gmaps.\n",
    "* Use the Lat and Lng as locations and Humidity as the weight.\n",
    "* Add Heatmap layer to map."
   ]
  },
  {
   "cell_type": "code",
   "execution_count": 4,
   "metadata": {},
   "outputs": [],
   "source": [
    "# Configure gmaps\n",
    "gmaps.configure(api_key = g_key)"
   ]
  },
  {
   "cell_type": "code",
   "execution_count": 5,
   "metadata": {},
   "outputs": [
    {
     "data": {
      "application/vnd.jupyter.widget-view+json": {
       "model_id": "db26a11096b84cc897fa1f335c551929",
       "version_major": 2,
       "version_minor": 0
      },
      "text/plain": [
       "Figure(layout=FigureLayout(height='420px'))"
      ]
     },
     "metadata": {},
     "output_type": "display_data"
    }
   ],
   "source": [
    "fig = gmaps.figure(center = (45.0, -2.0), zoom_level = 1.8)\n",
    "locations = df[[\"Lat\", \"Lng\"]]\n",
    "humidity = df[\"Humidity\"]\n",
    "\n",
    "\n",
    "\n",
    "heat_layer = gmaps.heatmap_layer(locations, weights = humidity, \n",
    "                                 dissipating = False, max_intensity = 100,\n",
    "                                 point_radius = 4)\n",
    "\n",
    "fig.add_layer(heat_layer)\n",
    "fig"
   ]
  },
  {
   "cell_type": "markdown",
   "metadata": {},
   "source": [
    "### Create new DataFrame fitting weather criteria\n",
    "* Narrow down the cities to fit weather conditions.\n",
    "* Drop any rows will null values."
   ]
  },
  {
   "cell_type": "code",
   "execution_count": 6,
   "metadata": {},
   "outputs": [
    {
     "name": "stdout",
     "output_type": "stream",
     "text": [
      "Best cities for vacation are:\n",
      "*******************\n",
      "0         Hobart\n",
      "1      Carnarvon\n",
      "2    Meadow Lake\n",
      "3          Ubari\n",
      "4     Abu Samrah\n",
      "5        Corumbá\n",
      "6         Kirkuk\n",
      "Name: City, dtype: object\n",
      "*******************\n"
     ]
    }
   ],
   "source": [
    "# Nice weather at max temperature lower than 80 degrees but higher than 70.\n",
    "new_df = df.loc[(df['Max. Temp.'] < 80) & (df['Max. Temp.'] > 70 )]\n",
    "# Not too windy cities\n",
    "new_df = new_df.loc[(new_df['Wind Speed'] < 10)]\n",
    "# Ideally humidity \n",
    "new_df = new_df.loc[(new_df['Humidity'] < 60)]\n",
    "# Nice clear sky cities\n",
    "new_df = new_df.loc[(new_df['Cloudiness'] == 0)]\n",
    "# Drop any rows will null values.\n",
    "new_df = new_df.dropna().reset_index()\n",
    "print('Best cities for vacation are:')\n",
    "print('*******************')\n",
    "print(f'{new_df.City}')\n",
    "print('*******************')"
   ]
  },
  {
   "cell_type": "markdown",
   "metadata": {},
   "source": [
    "### Hotel Map\n",
    "* Store into variable named `hotel_df`.\n",
    "* Add a \"Hotel Name\" column to the DataFrame.\n",
    "* Set parameters to search for hotels with 5000 meters.\n",
    "* Hit the Google Places API for each city's coordinates.\n",
    "* Store the first Hotel result into the DataFrame.\n",
    "* Plot markers on top of the heatmap."
   ]
  },
  {
   "cell_type": "code",
   "execution_count": 7,
   "metadata": {},
   "outputs": [
    {
     "data": {
      "text/html": [
       "<div>\n",
       "<style scoped>\n",
       "    .dataframe tbody tr th:only-of-type {\n",
       "        vertical-align: middle;\n",
       "    }\n",
       "\n",
       "    .dataframe tbody tr th {\n",
       "        vertical-align: top;\n",
       "    }\n",
       "\n",
       "    .dataframe thead th {\n",
       "        text-align: right;\n",
       "    }\n",
       "</style>\n",
       "<table border=\"1\" class=\"dataframe\">\n",
       "  <thead>\n",
       "    <tr style=\"text-align: right;\">\n",
       "      <th></th>\n",
       "      <th>City ID</th>\n",
       "      <th>City</th>\n",
       "      <th>Country</th>\n",
       "      <th>Lat</th>\n",
       "      <th>Lng</th>\n",
       "      <th>Date</th>\n",
       "      <th>Cloudiness</th>\n",
       "      <th>Max. Temp.</th>\n",
       "      <th>Humidity</th>\n",
       "      <th>Wind Speed</th>\n",
       "      <th>Hotel Name</th>\n",
       "    </tr>\n",
       "  </thead>\n",
       "  <tbody>\n",
       "    <tr>\n",
       "      <th>0</th>\n",
       "      <td>49</td>\n",
       "      <td>Hobart</td>\n",
       "      <td>AU</td>\n",
       "      <td>-42.8794</td>\n",
       "      <td>147.3294</td>\n",
       "      <td>1632273687</td>\n",
       "      <td>0</td>\n",
       "      <td>70.11</td>\n",
       "      <td>50</td>\n",
       "      <td>5.99</td>\n",
       "      <td></td>\n",
       "    </tr>\n",
       "    <tr>\n",
       "      <th>1</th>\n",
       "      <td>68</td>\n",
       "      <td>Carnarvon</td>\n",
       "      <td>AU</td>\n",
       "      <td>-24.8667</td>\n",
       "      <td>113.6333</td>\n",
       "      <td>1632273951</td>\n",
       "      <td>0</td>\n",
       "      <td>78.87</td>\n",
       "      <td>19</td>\n",
       "      <td>5.75</td>\n",
       "      <td></td>\n",
       "    </tr>\n",
       "    <tr>\n",
       "      <th>2</th>\n",
       "      <td>88</td>\n",
       "      <td>Meadow Lake</td>\n",
       "      <td>US</td>\n",
       "      <td>34.8014</td>\n",
       "      <td>-106.5436</td>\n",
       "      <td>1632273969</td>\n",
       "      <td>0</td>\n",
       "      <td>74.30</td>\n",
       "      <td>32</td>\n",
       "      <td>4.07</td>\n",
       "      <td></td>\n",
       "    </tr>\n",
       "    <tr>\n",
       "      <th>3</th>\n",
       "      <td>349</td>\n",
       "      <td>Ubari</td>\n",
       "      <td>LY</td>\n",
       "      <td>26.5921</td>\n",
       "      <td>12.7805</td>\n",
       "      <td>1632274141</td>\n",
       "      <td>0</td>\n",
       "      <td>79.59</td>\n",
       "      <td>18</td>\n",
       "      <td>9.60</td>\n",
       "      <td></td>\n",
       "    </tr>\n",
       "    <tr>\n",
       "      <th>4</th>\n",
       "      <td>443</td>\n",
       "      <td>Abu Samrah</td>\n",
       "      <td>SY</td>\n",
       "      <td>35.3029</td>\n",
       "      <td>37.1841</td>\n",
       "      <td>1632274210</td>\n",
       "      <td>0</td>\n",
       "      <td>71.58</td>\n",
       "      <td>46</td>\n",
       "      <td>6.69</td>\n",
       "      <td></td>\n",
       "    </tr>\n",
       "    <tr>\n",
       "      <th>5</th>\n",
       "      <td>491</td>\n",
       "      <td>Corumbá</td>\n",
       "      <td>BR</td>\n",
       "      <td>-19.0092</td>\n",
       "      <td>-57.6533</td>\n",
       "      <td>1632274243</td>\n",
       "      <td>0</td>\n",
       "      <td>76.89</td>\n",
       "      <td>59</td>\n",
       "      <td>7.34</td>\n",
       "      <td></td>\n",
       "    </tr>\n",
       "    <tr>\n",
       "      <th>6</th>\n",
       "      <td>509</td>\n",
       "      <td>Kirkuk</td>\n",
       "      <td>IQ</td>\n",
       "      <td>35.4681</td>\n",
       "      <td>44.3922</td>\n",
       "      <td>1632274253</td>\n",
       "      <td>0</td>\n",
       "      <td>76.71</td>\n",
       "      <td>23</td>\n",
       "      <td>0.85</td>\n",
       "      <td></td>\n",
       "    </tr>\n",
       "  </tbody>\n",
       "</table>\n",
       "</div>"
      ],
      "text/plain": [
       "   City ID         City Country      Lat       Lng        Date  Cloudiness  \\\n",
       "0       49       Hobart      AU -42.8794  147.3294  1632273687           0   \n",
       "1       68    Carnarvon      AU -24.8667  113.6333  1632273951           0   \n",
       "2       88  Meadow Lake      US  34.8014 -106.5436  1632273969           0   \n",
       "3      349        Ubari      LY  26.5921   12.7805  1632274141           0   \n",
       "4      443   Abu Samrah      SY  35.3029   37.1841  1632274210           0   \n",
       "5      491      Corumbá      BR -19.0092  -57.6533  1632274243           0   \n",
       "6      509       Kirkuk      IQ  35.4681   44.3922  1632274253           0   \n",
       "\n",
       "   Max. Temp.  Humidity  Wind Speed Hotel Name  \n",
       "0       70.11        50        5.99             \n",
       "1       78.87        19        5.75             \n",
       "2       74.30        32        4.07             \n",
       "3       79.59        18        9.60             \n",
       "4       71.58        46        6.69             \n",
       "5       76.89        59        7.34             \n",
       "6       76.71        23        0.85             "
      ]
     },
     "execution_count": 7,
     "metadata": {},
     "output_type": "execute_result"
    }
   ],
   "source": [
    "# Store into variable named hotel_df\n",
    "hotel_df = new_df.reset_index().drop( columns = ['level_0', 'index'])\n",
    "# Add a \"Hotel Name\" column to the DataFrame\n",
    "hotel_df[\"Hotel Name\"] = ''\n",
    "hotel_df"
   ]
  },
  {
   "cell_type": "code",
   "execution_count": 8,
   "metadata": {},
   "outputs": [
    {
     "name": "stdout",
     "output_type": "stream",
     "text": [
      "Missing field/result... skipping.\n",
      "Missing field/result... skipping.\n",
      "Missing field/result... skipping.\n"
     ]
    }
   ],
   "source": [
    "# define url for API calls\n",
    "base_url = \"https://maps.googleapis.com/maps/api/place/nearbysearch/json?\"\n",
    "params = {\"types\" : \"hotel\",\n",
    "          \"keyword\" : \"hotel\",\n",
    "          \"radius\" : 5000,\n",
    "          \"key\" : g_key}\n",
    "\n",
    "# Hit the Google Places API for each city's coordinates\n",
    "for index, row in hotel_df.iterrows():\n",
    "    # get lat, lng from df\n",
    "    lat = row[\"Lat\"]\n",
    "    lng = row[\"Lng\"]\n",
    "\n",
    "    # change location each iteration while leaving original params in place\n",
    "    params[\"location\"] = f\"{lat},{lng}\"\n",
    "\n",
    "    # make request and print url\n",
    "    hotel_name = requests.get(base_url, params = params)\n",
    "    \n",
    "    # convert to json format\n",
    "    hotel_name = hotel_name.json()\n",
    "\n",
    "    # Store the first Hotel result into the DataFrame\n",
    "    try:\n",
    "        hotel_df.loc[index, \"Hotel Name\"] = hotel_name[\"results\"][0][\"name\"]\n",
    "    except (KeyError, IndexError):\n",
    "        print(\"Missing field/result... skipping.\")    \n",
    "        \n",
    "# Plot markers on top of the heatmap"
   ]
  },
  {
   "cell_type": "code",
   "execution_count": 9,
   "metadata": {},
   "outputs": [],
   "source": [
    "# NOTE: Do not change any of the code in this cell\n",
    "\n",
    "# Using the template add the hotel marks to the heatmap\n",
    "info_box_template = \"\"\"\n",
    "<dl>\n",
    "<dt>Name</dt><dd>{Hotel Name}</dd>\n",
    "<dt>City</dt><dd>{City}</dd>\n",
    "<dt>Country</dt><dd>{Country}</dd>\n",
    "</dl>\n",
    "\"\"\"\n",
    "# Store the DataFrame Row\n",
    "# NOTE: be sure to update with your DataFrame name\n",
    "hotel_info = [info_box_template.format(**row) for index, row in hotel_df.iterrows()]\n",
    "locations = hotel_df[[\"Lat\", \"Lng\"]]"
   ]
  },
  {
   "cell_type": "code",
   "execution_count": 10,
   "metadata": {},
   "outputs": [
    {
     "data": {
      "application/vnd.jupyter.widget-view+json": {
       "model_id": "db26a11096b84cc897fa1f335c551929",
       "version_major": 2,
       "version_minor": 0
      },
      "text/plain": [
       "Figure(layout=FigureLayout(height='420px'))"
      ]
     },
     "metadata": {},
     "output_type": "display_data"
    }
   ],
   "source": [
    "# Add marker layer ontop of heat map\n",
    "marker_layer = gmaps.marker_layer(locations, info_box_content = hotel_info)\n",
    "fig.add_layer(marker_layer)\n",
    "# Display figure\n",
    "fig"
   ]
  },
  {
   "cell_type": "code",
   "execution_count": null,
   "metadata": {},
   "outputs": [],
   "source": []
  }
 ],
 "metadata": {
  "kernelspec": {
   "display_name": "Python 3",
   "language": "python",
   "name": "python3"
  },
  "language_info": {
   "codemirror_mode": {
    "name": "ipython",
    "version": 3
   },
   "file_extension": ".py",
   "mimetype": "text/x-python",
   "name": "python",
   "nbconvert_exporter": "python",
   "pygments_lexer": "ipython3",
   "version": "3.6.10"
  },
  "latex_envs": {
   "LaTeX_envs_menu_present": true,
   "autoclose": false,
   "autocomplete": true,
   "bibliofile": "biblio.bib",
   "cite_by": "apalike",
   "current_citInitial": 1,
   "eqLabelWithNumbers": true,
   "eqNumInitial": 1,
   "hotkeys": {
    "equation": "Ctrl-E",
    "itemize": "Ctrl-I"
   },
   "labels_anchors": false,
   "latex_user_defs": false,
   "report_style_numbering": false,
   "user_envs_cfg": false
  }
 },
 "nbformat": 4,
 "nbformat_minor": 4
}
